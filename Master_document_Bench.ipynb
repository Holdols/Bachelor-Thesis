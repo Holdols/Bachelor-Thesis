{
 "cells": [
  {
   "cell_type": "code",
   "execution_count": 1,
   "metadata": {},
   "outputs": [],
   "source": [
    "import pandas as pd\n",
    "import pickle\n",
    "\n",
    "from sklearn.linear_model import LinearRegression\n",
    "\n",
    "from functions_new import get_train_test\n",
    "from functions_new import rolling_window_hourly\n",
    "from functions_new import backward_selection\n",
    "\n",
    "from functions_lagtest import TestLags\n",
    "\n",
    "import warnings\n",
    "warnings.filterwarnings(\"ignore\")"
   ]
  },
  {
   "attachments": {},
   "cell_type": "markdown",
   "metadata": {},
   "source": [
    "# Læs data"
   ]
  },
  {
   "cell_type": "code",
   "execution_count": 2,
   "metadata": {},
   "outputs": [],
   "source": [
    "df = pd.read_csv(\"data/training_data.csv\", sep = \";\")\n",
    "\n",
    "lag_cols = ['PriceMWh_lag1', 'PriceMWh_lag2', 'PriceMWh_lag7']\n",
    "for col in lag_cols:\n",
    "    df[col] = 1\n",
    "    for i in range(24):\n",
    "        df[col][df['HourCET']==i] = df[f'{col}_h{i}']\n",
    "\n",
    "TestLags(df, size_of_test=1000)"
   ]
  },
  {
   "attachments": {},
   "cell_type": "markdown",
   "metadata": {},
   "source": [
    "# Models"
   ]
  },
  {
   "cell_type": "code",
   "execution_count": 3,
   "metadata": {},
   "outputs": [],
   "source": [
    "def perform_backward_selection(df_train, X ,Y, dummies, train_size):\n",
    "    cands = []\n",
    "    for i in range(24):\n",
    "        print(f'Hour {i}')\n",
    "        if i in [0,1,2,3,4]:\n",
    "            X_h = [x for x in X if 'solar' not in x]\n",
    "        else:\n",
    "            X_h = X\n",
    "        current_df = df_train.loc[df_train['HourCET'] == i]\n",
    "        cand = backward_selection(current_df, X_h, Y, dummies, train_size, print_res=False)\n",
    "        cands.append(cand)\n",
    "    return cands \n",
    "\n",
    "def benchmark1(df_train, df_test, train_size, path):\n",
    "    Y = ['PriceMWh']\n",
    "    weekday = ['Mon', 'Wen', 'Thur', 'Fri', 'Sat', 'Sun']\n",
    "    X = ['PriceMWh_lag1', 'PriceMWh_lag2', 'PriceMWh_lag7'] + weekday\n",
    "    X = [X for _ in range(24)]\n",
    "\n",
    "    test_size = 1\n",
    "    model_lm = LinearRegression()\n",
    "    preds= rolling_window_hourly(model_lm, df_train, df_test, X, Y, weekday, train_size=train_size, test_size=test_size, print_res=True)\n",
    "    out = [preds.values.ravel(), df_test[Y].values.ravel()]\n",
    "\n",
    "    with open(path, 'wb') as fp:\n",
    "        pickle.dump(out, fp)\n",
    "\n",
    "def benchmark2(df_train, df_test, train_size, path):\n",
    "    Y = ['PriceMWh']\n",
    "    weekday = ['Mon', 'Wen', 'Thur', 'Fri', 'Sat', 'Sun']\n",
    "    X = ['PriceMWh_lag1', 'PriceMWh_lag2', 'PriceMWh_lag7', 'Grid load forecast DK1', 'Wind power forecast'] + weekday\n",
    "    X = [X for _ in range(24)]\n",
    "\n",
    "    test_size = 1\n",
    "    model_lm = LinearRegression()\n",
    "    preds= rolling_window_hourly(model_lm, df_train, df_test, X, Y, weekday, train_size=train_size, test_size=test_size, print_res=True)\n",
    "    out = [preds.values.ravel(), df_test[Y].values.ravel()]\n",
    "\n",
    "    with open(path, 'wb') as fp:\n",
    "        pickle.dump(out, fp)\n",
    "\n",
    "def benchmark3(df_train, df_test, train_size, path):\n",
    "    Y = ['PriceMWh']\n",
    "    cols = df_train.columns.values\n",
    "    weekday = ['Mon', 'Wen', 'Thur', 'Fri', 'Sat', 'Sun']\n",
    "    X = [col for col in cols if 'Price' in col and '_h' in col and 'lag3' not in col] + \\\n",
    "        ['Grid load forecast DK1', 'Wind power forecast'] + weekday + ['Min_lag1']\n",
    "    X = [X for _ in range(24)]\n",
    "    \n",
    "    test_size = 1\n",
    "    model_lm = LinearRegression()\n",
    "    preds= rolling_window_hourly(model_lm, df_train, df_test, X, Y, weekday, train_size=train_size, test_size=test_size, print_res=True)\n",
    "    out = [preds.values.ravel(), df_test[Y].values.ravel()]\n",
    "\n",
    "    with open(path, 'wb') as fp:\n",
    "        pickle.dump(out, fp)\n",
    "\n",
    "def linBW(df_train, df_test, train_size, path, bw_file):\n",
    "    Y = ['PriceMWh']\n",
    "    with open(bw_file, 'rb') as fp:\n",
    "        X = pickle.load(fp)\n",
    "    \n",
    "    X = [[variable for variable in x if 'const'!=variable] for x in X]\n",
    "    weekday = ['Mon', 'Tue', 'Wen', 'Thur', 'Fri', 'Sat', 'Sun']\n",
    "\n",
    "    test_size = 1\n",
    "    model_lm = LinearRegression()\n",
    "    preds= rolling_window_hourly(model_lm, df_train, df_test, X, Y, weekday, train_size=train_size, test_size=test_size, print_res=True)\n",
    "    out = [preds.values.ravel(), df_test[Y].values.ravel()]\n",
    "\n",
    "    with open(path, 'wb') as fp:\n",
    "        pickle.dump(out, fp)"
   ]
  },
  {
   "attachments": {},
   "cell_type": "markdown",
   "metadata": {},
   "source": [
    "# Periode 1: 2019, 2020"
   ]
  },
  {
   "cell_type": "code",
   "execution_count": null,
   "metadata": {},
   "outputs": [],
   "source": [
    "# 1\n",
    "test_start = [2019,7,1]\n",
    "test_end = [2021,7,1]\n",
    "df_train, df_test = get_train_test(df, start=test_start, end=test_end)\n",
    "train_size = 365*3\n",
    "\n",
    "benchmark1(df_train, df_test, train_size, 'results\\Benchmark1_Period1_Year3.txt')"
   ]
  },
  {
   "cell_type": "code",
   "execution_count": null,
   "metadata": {},
   "outputs": [],
   "source": [
    "# 2\n",
    "test_start = [2019,7,1]\n",
    "test_end = [2021,7,1]\n",
    "df_train, df_test = get_train_test(df, start=test_start, end=test_end)\n",
    "train_size = 365*3\n",
    "\n",
    "benchmark2(df_train, df_test, train_size, 'results\\Benchmark2_Period1_Year3.txt')"
   ]
  },
  {
   "cell_type": "code",
   "execution_count": null,
   "metadata": {},
   "outputs": [],
   "source": [
    "# 3\n",
    "test_start = [2019,7,1]\n",
    "test_end = [2021,7,1]\n",
    "df_train, df_test = get_train_test(df, start=test_start, end=test_end)\n",
    "train_size = 365*3\n",
    "\n",
    "benchmark3(df_train, df_test, train_size, 'results\\Benchmark3_Period1_Year3.txt')"
   ]
  },
  {
   "cell_type": "code",
   "execution_count": null,
   "metadata": {},
   "outputs": [],
   "source": [
    "# Variable selection\n",
    "test_start = [2019,7,1]\n",
    "test_end = [2021,7,1]\n",
    "train_size = 365*3\n",
    "df_train, df_test = get_train_test(df, start=test_start, end=test_end)\n",
    "\n",
    "wind_col = [p for p in df.columns.values if \"wind\" in p]\n",
    "solar_col = [p for p in df.columns.values if \"solar\" in p]\n",
    "temp_col = [p for p in df.columns.values if \"temp\" in p]\n",
    "load_col = [p for p in df.columns.values if \"load\" in p and '_h' in p]\n",
    "weekday = ['Mon', 'Tue', 'Wen', 'Thur', 'Fri', 'Sat', 'Sun']\n",
    "windprod_col = [p for p in df.columns.values if \"Wind\" in p in p and '_h' in p]\n",
    "price_col = [p for p in df.columns.values if \"Price\" in p and p != 'PriceMWh' and '_h' in p]\n",
    "min_col = [p for p in df.columns.values if \"Min\" in p]\n",
    "max_col = [p for p in df.columns.values if \"Max\" in p]\n",
    "avg_col = [p for p in df.columns.values if \"Avg\" in p]\n",
    "X = load_col + price_col + windprod_col + weekday + temp_col + solar_col + wind_col + min_col + max_col + avg_col\n",
    "\n",
    "Y = ['PriceMWh']\n",
    "X_bs = perform_backward_selection(df_train, X, Y, weekday, train_size)\n",
    "\n",
    "with open('backward_result_2019.txt', 'wb') as fp:\n",
    "    pickle.dump(X_bs, fp)"
   ]
  },
  {
   "cell_type": "code",
   "execution_count": null,
   "metadata": {},
   "outputs": [],
   "source": [
    "#BW\n",
    "test_start = [2019,7,1]\n",
    "test_end = [2021,7,1]\n",
    "df_train, df_test = get_train_test(df, start=test_start, end=test_end)\n",
    "train_size = 365*3\n",
    "\n",
    "linBW(df_train, df_test, train_size, 'results\\LinBW_Period1_Year3.txt', 'backward_result_2019.txt')"
   ]
  },
  {
   "attachments": {},
   "cell_type": "markdown",
   "metadata": {},
   "source": [
    "# Periode 2: 2021, 2022\n",
    " "
   ]
  },
  {
   "cell_type": "code",
   "execution_count": null,
   "metadata": {},
   "outputs": [],
   "source": [
    "# 1\n",
    "test_start = [2021,1,1]\n",
    "test_end = [2023,1,1]\n",
    "df_train, df_test = get_train_test(df, start=test_start, end=test_end)\n",
    "train_size = 365*3\n",
    "\n",
    "benchmark1(df_train, df_test, train_size, 'results\\Benchmark1_Period2_Year3.txt')"
   ]
  },
  {
   "cell_type": "code",
   "execution_count": null,
   "metadata": {},
   "outputs": [],
   "source": [
    "# 2\n",
    "test_start = [2021,1,1]\n",
    "test_end = [2023,1,1]\n",
    "df_train, df_test = get_train_test(df, start=test_start, end=test_end)\n",
    "train_size = 365*3\n",
    "\n",
    "benchmark2(df_train, df_test, train_size, 'results\\Benchmark2_Period2_Year3.txt')"
   ]
  },
  {
   "cell_type": "code",
   "execution_count": null,
   "metadata": {},
   "outputs": [],
   "source": [
    "# 3\n",
    "test_start = [2021,1,1]\n",
    "test_end = [2023,1,1]\n",
    "df_train, df_test = get_train_test(df, start=test_start, end=test_end)\n",
    "train_size = 365*3\n",
    "\n",
    "benchmark3(df_train, df_test, train_size, 'results\\Benchmark3_Period2_Year3.txt')"
   ]
  },
  {
   "cell_type": "code",
   "execution_count": null,
   "metadata": {},
   "outputs": [],
   "source": [
    "# Variable selection\n",
    "test_start = [2021,1,1]\n",
    "test_end = [2023,1,1]\n",
    "train_size = 365*3\n",
    "df_train, df_test = get_train_test(df, start=test_start, end=test_end)\n",
    "\n",
    "wind_col = [p for p in df.columns.values if \"wind\" in p]\n",
    "solar_col = [p for p in df.columns.values if \"solar\" in p]\n",
    "temp_col = [p for p in df.columns.values if \"temp\" in p]\n",
    "load_col = [p for p in df.columns.values if \"load\" in p and '_h' in p]\n",
    "weekday = ['Mon', 'Tue', 'Wen', 'Thur', 'Fri', 'Sat', 'Sun']\n",
    "windprod_col = [p for p in df.columns.values if \"Wind\" in p in p and '_h' in p]\n",
    "price_col = [p for p in df.columns.values if \"Price\" in p and p != 'PriceMWh' and '_h' in p]\n",
    "min_col = [p for p in df.columns.values if \"Min\" in p]\n",
    "max_col = [p for p in df.columns.values if \"Max\" in p]\n",
    "avg_col = [p for p in df.columns.values if \"Avg\" in p]\n",
    "X = load_col + price_col + windprod_col + weekday + temp_col + solar_col + wind_col + min_col + max_col + avg_col\n",
    "\n",
    "Y = ['PriceMWh']\n",
    "X_bs = perform_backward_selection(df_train, X, Y, weekday, train_size)\n",
    "\n",
    "with open('backward_result_2021.txt', 'wb') as fp:\n",
    "    pickle.dump(X_bs, fp)"
   ]
  },
  {
   "cell_type": "code",
   "execution_count": null,
   "metadata": {},
   "outputs": [],
   "source": [
    "#BW\n",
    "test_start = [2021,1,1]\n",
    "test_end = [2023,1,1]\n",
    "df_train, df_test = get_train_test(df, start=test_start, end=test_end)\n",
    "train_size = 365*3\n",
    "\n",
    "linBW(df_train, df_test, train_size, 'results\\LinBW_Period2_Year3.txt', 'backward_result_2021.txt')"
   ]
  }
 ],
 "metadata": {
  "kernelspec": {
   "display_name": "Python 3",
   "language": "python",
   "name": "python3"
  },
  "language_info": {
   "codemirror_mode": {
    "name": "ipython",
    "version": 3
   },
   "file_extension": ".py",
   "mimetype": "text/x-python",
   "name": "python",
   "nbconvert_exporter": "python",
   "pygments_lexer": "ipython3",
   "version": "3.9.1"
  },
  "orig_nbformat": 4
 },
 "nbformat": 4,
 "nbformat_minor": 2
}
