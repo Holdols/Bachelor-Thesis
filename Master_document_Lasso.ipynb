{
 "cells": [
  {
   "cell_type": "code",
   "execution_count": 1,
   "metadata": {},
   "outputs": [],
   "source": [
    "import pandas as pd\n",
    "import pickle\n",
    "\n",
    "from lago_model import LARS_model\n",
    "\n",
    "from functions_new import get_train_test\n",
    "from functions_new import rolling_window_hourly\n",
    "\n",
    "import warnings\n",
    "warnings.filterwarnings(\"ignore\")"
   ]
  },
  {
   "attachments": {},
   "cell_type": "markdown",
   "metadata": {},
   "source": [
    "# Læs data"
   ]
  },
  {
   "cell_type": "code",
   "execution_count": 2,
   "metadata": {},
   "outputs": [],
   "source": [
    "df = pd.read_csv(\"data/training_data.csv\", sep = \";\")"
   ]
  },
  {
   "attachments": {},
   "cell_type": "markdown",
   "metadata": {},
   "source": [
    "# Models"
   ]
  },
  {
   "cell_type": "code",
   "execution_count": 7,
   "metadata": {},
   "outputs": [],
   "source": [
    "def Lasso_lago(df_train, df_test, train_size, path, get_coef=False):\n",
    "    Y = ['PriceMWh']\n",
    "    load_col = [p for p in df.columns.values if \"load\" in p and '_h' in p and 'DK1' in p]\n",
    "    weekday = ['Mon', 'Tue', 'Wen', 'Thur', 'Fri', 'Sat', 'Sun']\n",
    "    windprod_col = [p for p in df.columns.values if \"Wind\" in p in p and '_h' in p]\n",
    "    price_col = [p for p in df.columns.values if \"Price\" in p and p != 'PriceMWh' and '_h' in p]\n",
    "\n",
    "    X = load_col + price_col + windprod_col + weekday\n",
    "\n",
    "    X = [X for _ in range(24)]\n",
    "    test_size = 1\n",
    "    model_lm = LARS_model(max_iter = 2500, tol = 0.0001, selection=\"cyclic\")\n",
    "    \n",
    "    if get_coef:\n",
    "        preds, counts = rolling_window_hourly(model_lm, df_train, df_test, X, Y, weekday, train_size=train_size, test_size=test_size, print_res=True, get_coef=True)\n",
    "    else:\n",
    "        preds = rolling_window_hourly(model_lm, df_train, df_test, X, Y, weekday, train_size=train_size, test_size=test_size, print_res=True)\n",
    "    \n",
    "    out = [preds.values.ravel(), df_test[Y].values.ravel()]\n",
    "\n",
    "    with open(path, 'wb') as fp:\n",
    "        pickle.dump(out, fp)\n",
    "    \n",
    "    if get_coef:\n",
    "        path = 'results\\coef_' + path\n",
    "        with open(path, 'wb') as fp:\n",
    "            pickle.dump([counts, X], fp)\n",
    "\n",
    "def Lasso_all(df_train, df_test, train_size, path, get_coef=False):\n",
    "    Y = ['PriceMWh']\n",
    "    wind_col = [p for p in df.columns.values if \"wind\" in p]\n",
    "    solar_col = [p for p in df.columns.values if \"solar\" in p]\n",
    "    temp_col = [p for p in df.columns.values if \"temp\" in p]\n",
    "    load_col = [p for p in df.columns.values if \"load\" in p and '_h' in p]\n",
    "    weekday = ['Mon', 'Tue', 'Wen', 'Thur', 'Fri', 'Sat', 'Sun']\n",
    "    windprod_col = [p for p in df.columns.values if \"Wind\" in p in p and '_h' in p]\n",
    "    price_col = [p for p in df.columns.values if \"Price\" in p and p != 'PriceMWh' and '_h' in p]\n",
    "    min_col = [p for p in df.columns.values if \"Min\" in p]\n",
    "    max_col = [p for p in df.columns.values if \"Max\" in p]\n",
    "    avg_col = [p for p in df.columns.values if \"Avg\" in p]\n",
    "\n",
    "    X = load_col + price_col + windprod_col + weekday + temp_col + solar_col + wind_col + min_col + max_col + avg_col\n",
    "    X = [X for _ in range(24)]\n",
    "    \n",
    "    test_size = 1\n",
    "    model_lm = LARS_model(max_iter = 2500, tol = 0.0001, selection=\"cyclic\")\n",
    "    if get_coef:\n",
    "        preds, counts = rolling_window_hourly(model_lm, df_train, df_test, X, Y, weekday, train_size=train_size, test_size=test_size, print_res=True, get_coef=True)\n",
    "    else:\n",
    "        preds= rolling_window_hourly(model_lm, df_train, df_test, X, Y, weekday, train_size=train_size, test_size=test_size, print_res=True)\n",
    "    \n",
    "    out = [preds.values.ravel(), df_test[Y].values.ravel()]\n",
    "\n",
    "    with open(path, 'wb') as fp:\n",
    "        pickle.dump(out, fp)\n",
    "\n",
    "    if get_coef:\n",
    "        path = 'results\\coef_' + path\n",
    "        with open(path, 'wb') as fp:\n",
    "            pickle.dump([counts, X], fp)\n",
    "        \n",
    "def Lasso_nw(df_train, df_test, train_size, path, get_coef=False):\n",
    "    Y = ['PriceMWh']\n",
    "    load_col = [p for p in df.columns.values if \"load\" in p and '_h' in p]\n",
    "    weekday = ['Mon', 'Tue', 'Wen', 'Thur', 'Fri', 'Sat', 'Sun']\n",
    "    windprod_col = [p for p in df.columns.values if \"Wind\" in p in p and '_h' in p]\n",
    "    price_col = [p for p in df.columns.values if \"Price\" in p and p != 'PriceMWh' and '_h' in p]\n",
    "    min_col = [p for p in df.columns.values if \"Min\" in p]\n",
    "    max_col = [p for p in df.columns.values if \"Max\" in p]\n",
    "    avg_col = [p for p in df.columns.values if \"Avg\" in p]\n",
    "\n",
    "    X = load_col + price_col + windprod_col + weekday + min_col + max_col + avg_col\n",
    "    X = [X for _ in range(24)]\n",
    "    \n",
    "    test_size = 1\n",
    "    model_lm = LARS_model(max_iter = 2500, tol = 0.0001, selection=\"cyclic\")\n",
    "    if get_coef:\n",
    "        preds, counts = rolling_window_hourly(model_lm, df_train, df_test, X, Y, weekday, train_size=train_size, test_size=test_size, print_res=True, get_coef=True)\n",
    "    else:\n",
    "        preds= rolling_window_hourly(model_lm, df_train, df_test, X, Y, weekday, train_size=train_size, test_size=test_size, print_res=True)\n",
    "    \n",
    "    out = [preds.values.ravel(), df_test[Y].values.ravel()]\n",
    "\n",
    "    with open(path, 'wb') as fp:\n",
    "        pickle.dump(out, fp)\n",
    "\n",
    "    if get_coef:\n",
    "        path = 'results\\coef_' + path\n",
    "        with open(path, 'wb') as fp:\n",
    "            pickle.dump([counts, X], fp)"
   ]
  },
  {
   "attachments": {},
   "cell_type": "markdown",
   "metadata": {},
   "source": [
    "# Periode 1: 2019, 2020"
   ]
  },
  {
   "cell_type": "code",
   "execution_count": null,
   "metadata": {},
   "outputs": [],
   "source": [
    "# Lago\n",
    "# 3 Years\n",
    "test_start = [2019,7,1]\n",
    "test_end = [2021,7,1]\n",
    "df_train, df_test = get_train_test(df, start=test_start, end=test_end)\n",
    "train_size = 365*3\n",
    "\n",
    "Lasso_lago(df_train, df_test, train_size, 'results\\LASSOLago_Period1_Year3.txt')"
   ]
  },
  {
   "cell_type": "code",
   "execution_count": null,
   "metadata": {},
   "outputs": [],
   "source": [
    "# All\n",
    "# 3 Years\n",
    "test_start = [2019,7,1]\n",
    "test_end = [2021,7,1]\n",
    "df_train, df_test = get_train_test(df, start=test_start, end=test_end)\n",
    "train_size = 365*3\n",
    "\n",
    "Lasso_all(df_train, df_test, train_size, 'results\\LASSOall_Period1_Year3.txt', get_coef = True)"
   ]
  },
  {
   "cell_type": "code",
   "execution_count": null,
   "metadata": {},
   "outputs": [],
   "source": [
    "# nw\n",
    "# 3 Years\n",
    "test_start = [2019,7,1]\n",
    "test_end = [2021,7,1]\n",
    "df_train, df_test = get_train_test(df, start=test_start, end=test_end)\n",
    "train_size = 365*3\n",
    "\n",
    "Lasso_nw(df_train, df_test, train_size, 'results\\LASSOnw_Period1_Year3.txt', get_coef = False)"
   ]
  },
  {
   "attachments": {},
   "cell_type": "markdown",
   "metadata": {},
   "source": [
    "# Periode 2: 2021, 2022\n",
    " "
   ]
  },
  {
   "cell_type": "code",
   "execution_count": null,
   "metadata": {},
   "outputs": [],
   "source": [
    "# Lago\n",
    "# 3 Years\n",
    "test_start = [2021,1,1]\n",
    "test_end = [2023,1,1]\n",
    "df_train, df_test = get_train_test(df, start=test_start, end=test_end)\n",
    "train_size = 365*3\n",
    "\n",
    "Lasso_lago(df_train, df_test, train_size, 'results\\LASSOLago_Period2_Year3.txt')"
   ]
  },
  {
   "cell_type": "code",
   "execution_count": null,
   "metadata": {},
   "outputs": [],
   "source": [
    "# All\n",
    "# 3 Years\n",
    "test_start = [2021,1,1]\n",
    "test_end = [2023,1,1]\n",
    "df_train, df_test = get_train_test(df, start=test_start, end=test_end)\n",
    "train_size = 365*3\n",
    "\n",
    "Lasso_all(df_train, df_test, train_size, 'results\\LASSOall_Period2_Year3.txt', get_coef=True)"
   ]
  },
  {
   "cell_type": "code",
   "execution_count": null,
   "metadata": {},
   "outputs": [],
   "source": [
    "# nw\n",
    "# 3 Years\n",
    "test_start = [2021,1,1]\n",
    "test_end = [2023,1,1]\n",
    "df_train, df_test = get_train_test(df, start=test_start, end=test_end)\n",
    "train_size = 365*3\n",
    "\n",
    "Lasso_nw(df_train, df_test, train_size, 'results\\LASSOnw_Period2_Year3.txt', get_coef = False)"
   ]
  }
 ],
 "metadata": {
  "kernelspec": {
   "display_name": "Python 3",
   "language": "python",
   "name": "python3"
  },
  "language_info": {
   "codemirror_mode": {
    "name": "ipython",
    "version": 3
   },
   "file_extension": ".py",
   "mimetype": "text/x-python",
   "name": "python",
   "nbconvert_exporter": "python",
   "pygments_lexer": "ipython3",
   "version": "3.9.1"
  },
  "orig_nbformat": 4
 },
 "nbformat": 4,
 "nbformat_minor": 2
}
